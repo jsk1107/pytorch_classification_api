{
 "cells": [
  {
   "cell_type": "markdown",
   "metadata": {
    "pycharm": {
     "name": "#%% md\n"
    }
   },
   "source": [
    "# Run Colab\n",
    "\n",
    "Colab을 활용해서 코드 작성. 아래 Open in Colab을 눌러주세요.\n",
    "\n",
    "[![Open in Colab](https://colab.research.google.com/assets/colab-badge.svg)](https://colab.research.google.com/github/jsk1107/pytorch_classification_api/blob/master/Colab_NoteBook.ipynb)"
   ]
  },
  {
   "cell_type": "code",
   "execution_count": null,
   "metadata": {
    "colab": {
     "base_uri": "https://localhost:8080/",
     "height": 122
    },
    "colab_type": "code",
    "executionInfo": {
     "elapsed": 23039,
     "status": "ok",
     "timestamp": 1596640199652,
     "user": {
      "displayName": "SeungKyu Jo",
      "photoUrl": "https://lh3.googleusercontent.com/a-/AOh14Gi7Br0bNpk5_FfF6Y0BTwgzEy6yI4h1TZtibenI=s64",
      "userId": "17378303893739685893"
     },
     "user_tz": -540
    },
    "id": "ypuk6eh9P051",
    "outputId": "ebff5152-1879-4265-e254-e171b830fcc1"
   },
   "outputs": [],
   "source": [
    "from google.colab import drive\n",
    "drive.mount('/content/drive')"
   ]
  },
  {
   "cell_type": "code",
   "execution_count": null,
   "metadata": {
    "colab": {
     "base_uri": "https://localhost:8080/",
     "height": 272
    },
    "colab_type": "code",
    "executionInfo": {
     "elapsed": 1785006,
     "status": "ok",
     "timestamp": 1596643534767,
     "user": {
      "displayName": "SeungKyu Jo",
      "photoUrl": "https://lh3.googleusercontent.com/a-/AOh14Gi7Br0bNpk5_FfF6Y0BTwgzEy6yI4h1TZtibenI=s64",
      "userId": "17378303893739685893"
     },
     "user_tz": -540
    },
    "id": "Au8PU2_ApNsh",
    "outputId": "de0a3c80-f0bb-401c-fa88-17663cbba07d"
   },
   "outputs": [],
   "source": [
    "!pip install tensorboardX\n",
    "!git clone https://github.com/jsk1107/pytorch_classification_api"
   ]
  },
  {
   "cell_type": "code",
   "execution_count": null,
   "metadata": {
    "pycharm": {
     "name": "#%%\n"
    }
   },
   "outputs": [],
   "source": [
    "import os\n",
    "os.chdir('/content/pytorch_classification_api')"
   ]
  },
  {
   "cell_type": "code",
   "execution_count": null,
   "metadata": {
    "colab": {
     "base_uri": "https://localhost:8080/",
     "height": 381
    },
    "colab_type": "code",
    "executionInfo": {
     "elapsed": 61123,
     "status": "ok",
     "timestamp": 1596640765915,
     "user": {
      "displayName": "SeungKyu Jo",
      "photoUrl": "https://lh3.googleusercontent.com/a-/AOh14Gi7Br0bNpk5_FfF6Y0BTwgzEy6yI4h1TZtibenI=s64",
      "userId": "17378303893739685893"
     },
     "user_tz": -540
    },
    "id": "yOEiUMniLZqP",
    "outputId": "223f2889-2c74-43f6-b0a7-48b046290980",
    "pycharm": {
     "name": "#%%\n"
    }
   },
   "outputs": [],
   "source": [
    "run -i /content/pytorch_classification_api/main.py"
   ]
  }
 ],
 "metadata": {
  "accelerator": "GPU",
  "colab": {
   "collapsed_sections": [],
   "name": "Colab_NoteBook.ipynb",
   "provenance": []
  },
  "kernelspec": {
   "display_name": "Python 3",
   "language": "python",
   "name": "python3"
  },
  "language_info": {
   "codemirror_mode": {
    "name": "ipython",
    "version": 3
   },
   "file_extension": ".py",
   "mimetype": "text/x-python",
   "name": "python",
   "nbconvert_exporter": "python",
   "pygments_lexer": "ipython3",
   "version": "3.7.5"
  }
 },
 "nbformat": 4,
 "nbformat_minor": 1
}